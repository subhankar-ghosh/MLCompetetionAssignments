{
 "cells": [
  {
   "cell_type": "markdown",
   "metadata": {
    "deletable": true,
    "editable": true
   },
   "source": [
    "# Fully-Connected Neural Nets\n",
    "In the previous homework you implemented a fully-connected two-layer neural network on CIFAR-10. The implementation was simple but not very modular since the loss and gradient were computed in a single monolithic function. This is manageable for a simple two-layer network, but would become impractical as we move to bigger models. Ideally we want to build networks using a more modular design so that we can implement different layer types in isolation and then snap them together into models with different architectures.\n",
    "\n",
    "In this exercise we will implement fully-connected networks using a more modular approach. For each layer we will implement a `forward` and a `backward` function. The `forward` function will receive inputs, weights, and other parameters and will return both an output and a `cache` object storing data needed for the backward pass, like this:\n",
    "\n",
    "```python\n",
    "def layer_forward(x, w):\n",
    "  \"\"\" Receive inputs x and weights w \"\"\"\n",
    "  # Do some computations ...\n",
    "  z = # ... some intermediate value\n",
    "  # Do some more computations ...\n",
    "  out = # the output\n",
    "   \n",
    "  cache = (x, w, z, out) # Values we need to compute gradients\n",
    "   \n",
    "  return out, cache\n",
    "```\n",
    "\n",
    "The backward pass will receive upstream derivatives and the `cache` object, and will return gradients with respect to the inputs and weights, like this:\n",
    "\n",
    "```python\n",
    "def layer_backward(dout, cache):\n",
    "  \"\"\"\n",
    "  Receive derivative of loss with respect to outputs and cache,\n",
    "  and compute derivative with respect to inputs.\n",
    "  \"\"\"\n",
    "  # Unpack cache values\n",
    "  x, w, z, out = cache\n",
    "  \n",
    "  # Use values in cache to compute derivatives\n",
    "  dx = # Derivative of loss with respect to x\n",
    "  dw = # Derivative of loss with respect to w\n",
    "  \n",
    "  return dx, dw\n",
    "```\n",
    "\n",
    "After implementing a bunch of layers this way, we will be able to easily combine them to build classifiers with different architectures.\n",
    "\n",
    "In addition to implementing fully-connected networks of arbitrary depth, we will also explore different update rules for optimization, and introduce Dropout as a regularizer and Batch Normalization as a tool to more efficiently optimize deep networks.\n",
    "  "
   ]
  },
  {
   "cell_type": "code",
   "execution_count": 2,
   "metadata": {
    "collapsed": false,
    "deletable": true,
    "editable": true
   },
   "outputs": [
    {
     "name": "stdout",
     "output_type": "stream",
     "text": [
      "The autoreload extension is already loaded. To reload it, use:\n",
      "  %reload_ext autoreload\n"
     ]
    }
   ],
   "source": [
    "# As usual, a bit of setup\n",
    "from __future__ import print_function\n",
    "import time\n",
    "import numpy as np\n",
    "import matplotlib.pyplot as plt\n",
    "from cs231n.classifiers.fc_net import *\n",
    "from cs231n.data_utils import get_CIFAR10_data\n",
    "from cs231n.gradient_check import eval_numerical_gradient, eval_numerical_gradient_array\n",
    "from cs231n.solver import Solver\n",
    "\n",
    "%matplotlib inline\n",
    "plt.rcParams['figure.figsize'] = (10.0, 8.0) # set default size of plots\n",
    "plt.rcParams['image.interpolation'] = 'nearest'\n",
    "plt.rcParams['image.cmap'] = 'gray'\n",
    "\n",
    "# for auto-reloading external modules\n",
    "# see http://stackoverflow.com/questions/1907993/autoreload-of-modules-in-ipython\n",
    "%load_ext autoreload\n",
    "%autoreload 2\n",
    "\n",
    "def rel_error(x, y):\n",
    "  \"\"\" returns relative error \"\"\"\n",
    "  return np.max(np.abs(x - y) / (np.maximum(1e-8, np.abs(x) + np.abs(y))))"
   ]
  },
  {
   "cell_type": "code",
   "execution_count": 3,
   "metadata": {
    "collapsed": false,
    "deletable": true,
    "editable": true
   },
   "outputs": [
    {
     "name": "stdout",
     "output_type": "stream",
     "text": [
      "('X_train: ', (49000, 3, 32, 32))\n",
      "('y_train: ', (49000,))\n",
      "('X_val: ', (1000, 3, 32, 32))\n",
      "('y_val: ', (1000,))\n",
      "('X_test: ', (1000, 3, 32, 32))\n",
      "('y_test: ', (1000,))\n"
     ]
    }
   ],
   "source": [
    "# Load the (preprocessed) CIFAR10 data.\n",
    "\n",
    "data = get_CIFAR10_data()\n",
    "for k, v in list(data.items()):\n",
    "  print(('%s: ' % k, v.shape))"
   ]
  },
  {
   "cell_type": "markdown",
   "metadata": {
    "deletable": true,
    "editable": true
   },
   "source": [
    "# Affine layer: foward\n",
    "Open the file `cs231n/layers.py` and implement the `affine_forward` function.\n",
    "\n",
    "Once you are done you can test your implementaion by running the following:"
   ]
  },
  {
   "cell_type": "code",
   "execution_count": 4,
   "metadata": {
    "collapsed": false,
    "deletable": true,
    "editable": true
   },
   "outputs": [
    {
     "name": "stdout",
     "output_type": "stream",
     "text": [
      "Testing affine_forward function:\n",
      "difference:  9.76985004799e-10\n"
     ]
    }
   ],
   "source": [
    "# Test the affine_forward function\n",
    "\n",
    "num_inputs = 2\n",
    "input_shape = (4, 5, 6)\n",
    "output_dim = 3\n",
    "\n",
    "input_size = num_inputs * np.prod(input_shape)\n",
    "weight_size = output_dim * np.prod(input_shape)\n",
    "\n",
    "x = np.linspace(-0.1, 0.5, num=input_size).reshape(num_inputs, *input_shape)\n",
    "w = np.linspace(-0.2, 0.3, num=weight_size).reshape(np.prod(input_shape), output_dim)\n",
    "b = np.linspace(-0.3, 0.1, num=output_dim)\n",
    "\n",
    "out, _ = affine_forward(x, w, b)\n",
    "correct_out = np.array([[ 1.49834967,  1.70660132,  1.91485297],\n",
    "                        [ 3.25553199,  3.5141327,   3.77273342]])\n",
    "\n",
    "# Compare your output with ours. The error should be around 1e-9.\n",
    "print('Testing affine_forward function:')\n",
    "print('difference: ', rel_error(out, correct_out))"
   ]
  },
  {
   "cell_type": "markdown",
   "metadata": {
    "deletable": true,
    "editable": true
   },
   "source": [
    "# Affine layer: backward\n",
    "Now implement the `affine_backward` function and test your implementation using numeric gradient checking."
   ]
  },
  {
   "cell_type": "code",
   "execution_count": 8,
   "metadata": {
    "collapsed": false,
    "deletable": true,
    "editable": true
   },
   "outputs": [
    {
     "name": "stdout",
     "output_type": "stream",
     "text": [
      "Testing affine_backward function:\n",
      "dx error:  1.09082101132e-10\n",
      "dw error:  2.27380555779e-10\n",
      "db error:  7.73697883449e-12\n"
     ]
    }
   ],
   "source": [
    "# Test the affine_backward function\n",
    "np.random.seed(231)\n",
    "x = np.random.randn(10, 2, 3)\n",
    "w = np.random.randn(6, 5)\n",
    "b = np.random.randn(5)\n",
    "dout = np.random.randn(10, 5)\n",
    "\n",
    "dx_num = eval_numerical_gradient_array(lambda x: affine_forward(x, w, b)[0], x, dout)\n",
    "dw_num = eval_numerical_gradient_array(lambda w: affine_forward(x, w, b)[0], w, dout)\n",
    "db_num = eval_numerical_gradient_array(lambda b: affine_forward(x, w, b)[0], b, dout)\n",
    "\n",
    "_, cache = affine_forward(x, w, b)\n",
    "dx, dw, db = affine_backward(dout, cache)\n",
    "\n",
    "# The error should be around 1e-10\n",
    "print('Testing affine_backward function:')\n",
    "print('dx error: ', rel_error(dx_num, dx))\n",
    "print('dw error: ', rel_error(dw_num, dw))\n",
    "print('db error: ', rel_error(db_num, db))"
   ]
  },
  {
   "cell_type": "markdown",
   "metadata": {
    "deletable": true,
    "editable": true
   },
   "source": [
    "# ReLU layer: forward\n",
    "Implement the forward pass for the ReLU activation function in the `relu_forward` function and test your implementation using the following:"
   ]
  },
  {
   "cell_type": "code",
   "execution_count": 22,
   "metadata": {
    "collapsed": false,
    "deletable": true,
    "editable": true
   },
   "outputs": [
    {
     "name": "stdout",
     "output_type": "stream",
     "text": [
      "Testing relu_forward function:\n",
      "difference:  4.99999979802e-08\n"
     ]
    }
   ],
   "source": [
    "# Test the relu_forward function\n",
    "\n",
    "x = np.linspace(-0.5, 0.5, num=12).reshape(3, 4)\n",
    "\n",
    "out, _ = relu_forward(x)\n",
    "correct_out = np.array([[ 0.,          0.,          0.,          0.,        ],\n",
    "                        [ 0.,          0.,          0.04545455,  0.13636364,],\n",
    "                        [ 0.22727273,  0.31818182,  0.40909091,  0.5,       ]])\n",
    "\n",
    "# Compare your output with ours. The error should be around 5e-8\n",
    "print('Testing relu_forward function:')\n",
    "print('difference: ', rel_error(out, correct_out))"
   ]
  },
  {
   "cell_type": "markdown",
   "metadata": {
    "deletable": true,
    "editable": true
   },
   "source": [
    "# ReLU layer: backward\n",
    "Now implement the backward pass for the ReLU activation function in the `relu_backward` function and test your implementation using numeric gradient checking:"
   ]
  },
  {
   "cell_type": "code",
   "execution_count": 24,
   "metadata": {
    "collapsed": false,
    "deletable": true,
    "editable": true
   },
   "outputs": [
    {
     "name": "stdout",
     "output_type": "stream",
     "text": [
      "Testing relu_backward function:\n",
      "dx error:  3.27563491363e-12\n"
     ]
    }
   ],
   "source": [
    "np.random.seed(231)\n",
    "x = np.random.randn(10, 10)\n",
    "dout = np.random.randn(*x.shape)\n",
    "\n",
    "dx_num = eval_numerical_gradient_array(lambda x: relu_forward(x)[0], x, dout)\n",
    "\n",
    "_, cache = relu_forward(x)\n",
    "dx = relu_backward(dout, cache)\n",
    "\n",
    "# The error should be around 3e-12\n",
    "print('Testing relu_backward function:')\n",
    "print('dx error: ', rel_error(dx_num, dx))"
   ]
  },
  {
   "cell_type": "markdown",
   "metadata": {
    "deletable": true,
    "editable": true
   },
   "source": [
    "# \"Sandwich\" layers\n",
    "There are some common patterns of layers that are frequently used in neural nets. For example, affine layers are frequently followed by a ReLU nonlinearity. To make these common patterns easy, we define several convenience layers in the file `cs231n/layer_utils.py`.\n",
    "\n",
    "For now take a look at the `affine_relu_forward` and `affine_relu_backward` functions, and run the following to numerically gradient check the backward pass:"
   ]
  },
  {
   "cell_type": "code",
   "execution_count": 25,
   "metadata": {
    "collapsed": false,
    "deletable": true,
    "editable": true
   },
   "outputs": [
    {
     "name": "stdout",
     "output_type": "stream",
     "text": [
      "Testing affine_relu_forward:\n",
      "dx error:  6.75057392888e-11\n",
      "dw error:  8.16201557044e-11\n",
      "db error:  7.82672402146e-12\n"
     ]
    }
   ],
   "source": [
    "from cs231n.layer_utils import affine_relu_forward, affine_relu_backward\n",
    "np.random.seed(231)\n",
    "x = np.random.randn(2, 3, 4)\n",
    "w = np.random.randn(12, 10)\n",
    "b = np.random.randn(10)\n",
    "dout = np.random.randn(2, 10)\n",
    "\n",
    "out, cache = affine_relu_forward(x, w, b)\n",
    "dx, dw, db = affine_relu_backward(dout, cache)\n",
    "\n",
    "dx_num = eval_numerical_gradient_array(lambda x: affine_relu_forward(x, w, b)[0], x, dout)\n",
    "dw_num = eval_numerical_gradient_array(lambda w: affine_relu_forward(x, w, b)[0], w, dout)\n",
    "db_num = eval_numerical_gradient_array(lambda b: affine_relu_forward(x, w, b)[0], b, dout)\n",
    "\n",
    "print('Testing affine_relu_forward:')\n",
    "print('dx error: ', rel_error(dx_num, dx))\n",
    "print('dw error: ', rel_error(dw_num, dw))\n",
    "print('db error: ', rel_error(db_num, db))"
   ]
  },
  {
   "cell_type": "markdown",
   "metadata": {
    "deletable": true,
    "editable": true
   },
   "source": [
    "# Loss layers: Softmax and SVM\n",
    "You implemented these loss functions in the last assignment, so we'll give them to you for free here. You should still make sure you understand how they work by looking at the implementations in `cs231n/layers.py`.\n",
    "\n",
    "You can make sure that the implementations are correct by running the following:"
   ]
  },
  {
   "cell_type": "code",
   "execution_count": 26,
   "metadata": {
    "collapsed": false,
    "deletable": true,
    "editable": true
   },
   "outputs": [
    {
     "name": "stdout",
     "output_type": "stream",
     "text": [
      "Testing svm_loss:\n",
      "loss:  8.9996027491\n",
      "dx error:  1.40215660067e-09\n",
      "\n",
      "Testing softmax_loss:\n",
      "loss:  2.3025458445\n",
      "dx error:  9.38467316199e-09\n"
     ]
    }
   ],
   "source": [
    "np.random.seed(231)\n",
    "num_classes, num_inputs = 10, 50\n",
    "x = 0.001 * np.random.randn(num_inputs, num_classes)\n",
    "y = np.random.randint(num_classes, size=num_inputs)\n",
    "\n",
    "dx_num = eval_numerical_gradient(lambda x: svm_loss(x, y)[0], x, verbose=False)\n",
    "loss, dx = svm_loss(x, y)\n",
    "\n",
    "# Test svm_loss function. Loss should be around 9 and dx error should be 1e-9\n",
    "print('Testing svm_loss:')\n",
    "print('loss: ', loss)\n",
    "print('dx error: ', rel_error(dx_num, dx))\n",
    "\n",
    "dx_num = eval_numerical_gradient(lambda x: softmax_loss(x, y)[0], x, verbose=False)\n",
    "loss, dx = softmax_loss(x, y)\n",
    "\n",
    "# Test softmax_loss function. Loss should be 2.3 and dx error should be 1e-8\n",
    "print('\\nTesting softmax_loss:')\n",
    "print('loss: ', loss)\n",
    "print('dx error: ', rel_error(dx_num, dx))"
   ]
  },
  {
   "cell_type": "markdown",
   "metadata": {
    "deletable": true,
    "editable": true
   },
   "source": [
    "# Two-layer network\n",
    "In the previous assignment you implemented a two-layer neural network in a single monolithic class. Now that you have implemented modular versions of the necessary layers, you will reimplement the two layer network using these modular implementations.\n",
    "\n",
    "Open the file `cs231n/classifiers/fc_net.py` and complete the implementation of the `TwoLayerNet` class. This class will serve as a model for the other networks you will implement in this assignment, so read through it to make sure you understand the API. You can run the cell below to test your implementation."
   ]
  },
  {
   "cell_type": "code",
   "execution_count": 49,
   "metadata": {
    "collapsed": false,
    "deletable": true,
    "editable": true
   },
   "outputs": [
    {
     "name": "stdout",
     "output_type": "stream",
     "text": [
      "Testing initialization ... \n",
      "Testing test-time forward pass ... \n",
      "Testing training loss (no regularization)\n",
      "Running numeric gradient check with reg =  0.0\n",
      "W1 relative error: 1.52e-08\n",
      "W2 relative error: 3.30e-10\n",
      "b1 relative error: 8.37e-09\n",
      "b2 relative error: 1.34e-10\n",
      "Running numeric gradient check with reg =  0.7\n",
      "W1 relative error: 2.53e-07\n",
      "W2 relative error: 2.85e-08\n",
      "b1 relative error: 1.56e-08\n",
      "b2 relative error: 9.09e-10\n"
     ]
    }
   ],
   "source": [
    "np.random.seed(231)\n",
    "N, D, H, C = 3, 5, 50, 7\n",
    "X = np.random.randn(N, D)\n",
    "y = np.random.randint(C, size=N)\n",
    "\n",
    "std = 1e-3\n",
    "model = TwoLayerNet(input_dim=D, hidden_dim=H, num_classes=C, weight_scale=std)\n",
    "\n",
    "print('Testing initialization ... ')\n",
    "W1_std = abs(model.params['W1'].std() - std)\n",
    "b1 = model.params['b1']\n",
    "W2_std = abs(model.params['W2'].std() - std)\n",
    "b2 = model.params['b2']\n",
    "assert W1_std < std / 10, 'First layer weights do not seem right'\n",
    "assert np.all(b1 == 0), 'First layer biases do not seem right'\n",
    "assert W2_std < std / 10, 'Second layer weights do not seem right'\n",
    "assert np.all(b2 == 0), 'Second layer biases do not seem right'\n",
    "\n",
    "print('Testing test-time forward pass ... ')\n",
    "model.params['W1'] = np.linspace(-0.7, 0.3, num=D*H).reshape(D, H)\n",
    "model.params['b1'] = np.linspace(-0.1, 0.9, num=H)\n",
    "model.params['W2'] = np.linspace(-0.3, 0.4, num=H*C).reshape(H, C)\n",
    "model.params['b2'] = np.linspace(-0.9, 0.1, num=C)\n",
    "X = np.linspace(-5.5, 4.5, num=N*D).reshape(D, N).T\n",
    "scores = model.loss(X)\n",
    "correct_scores = np.asarray(\n",
    "  [[11.53165108,  12.2917344,   13.05181771,  13.81190102,  14.57198434, 15.33206765,  16.09215096],\n",
    "   [12.05769098,  12.74614105,  13.43459113,  14.1230412,   14.81149128, 15.49994135,  16.18839143],\n",
    "   [12.58373087,  13.20054771,  13.81736455,  14.43418138,  15.05099822, 15.66781506,  16.2846319 ]])\n",
    "scores_diff = np.abs(scores - correct_scores).sum()\n",
    "assert scores_diff < 1e-6, 'Problem with test-time forward pass'\n",
    "\n",
    "print('Testing training loss (no regularization)')\n",
    "y = np.asarray([0, 5, 1])\n",
    "loss, grads = model.loss(X, y)\n",
    "correct_loss = 3.4702243556\n",
    "assert abs(loss - correct_loss) < 1e-10, 'Problem with training-time loss'\n",
    "\n",
    "model.reg = 1.0\n",
    "loss, grads = model.loss(X, y)\n",
    "correct_loss = 26.5948426952\n",
    "assert abs(loss - correct_loss) < 1e-10, 'Problem with regularization loss'\n",
    "\n",
    "for reg in [0.0, 0.7]:\n",
    "  print('Running numeric gradient check with reg = ', reg)\n",
    "  model.reg = reg\n",
    "  loss, grads = model.loss(X, y)\n",
    "\n",
    "  for name in sorted(grads):\n",
    "    f = lambda _: model.loss(X, y)[0]\n",
    "    grad_num = eval_numerical_gradient(f, model.params[name], verbose=False)\n",
    "    print('%s relative error: %.2e' % (name, rel_error(grad_num, grads[name])))"
   ]
  },
  {
   "cell_type": "markdown",
   "metadata": {
    "deletable": true,
    "editable": true
   },
   "source": [
    "# Solver\n",
    "In the previous assignment, the logic for training models was coupled to the models themselves. Following a more modular design, for this assignment we have split the logic for training models into a separate class.\n",
    "\n",
    "Open the file `cs231n/solver.py` and read through it to familiarize yourself with the API. After doing so, use a `Solver` instance to train a `TwoLayerNet` that achieves at least `50%` accuracy on the validation set."
   ]
  },
  {
   "cell_type": "code",
   "execution_count": 51,
   "metadata": {
    "collapsed": false,
    "deletable": true,
    "editable": true
   },
   "outputs": [
    {
     "name": "stdout",
     "output_type": "stream",
     "text": [
      "(Iteration 1 / 4900) loss: 2.301434\n",
      "(Epoch 0 / 10) train acc: 0.164000; val_acc: 0.134000\n",
      "(Iteration 101 / 4900) loss: 1.824051\n",
      "(Iteration 201 / 4900) loss: 1.961900\n",
      "(Iteration 301 / 4900) loss: 1.613144\n",
      "(Iteration 401 / 4900) loss: 1.495818\n",
      "(Epoch 1 / 10) train acc: 0.450000; val_acc: 0.451000\n",
      "(Iteration 501 / 4900) loss: 1.563394\n",
      "(Iteration 601 / 4900) loss: 1.443666\n",
      "(Iteration 701 / 4900) loss: 1.604075\n",
      "(Iteration 801 / 4900) loss: 1.605911\n",
      "(Iteration 901 / 4900) loss: 1.408392\n",
      "(Epoch 2 / 10) train acc: 0.480000; val_acc: 0.464000\n",
      "(Iteration 1001 / 4900) loss: 1.455671\n",
      "(Iteration 1101 / 4900) loss: 1.468152\n",
      "(Iteration 1201 / 4900) loss: 1.380462\n",
      "(Iteration 1301 / 4900) loss: 1.280830\n",
      "(Iteration 1401 / 4900) loss: 1.445764\n",
      "(Epoch 3 / 10) train acc: 0.503000; val_acc: 0.479000\n",
      "(Iteration 1501 / 4900) loss: 1.384686\n",
      "(Iteration 1601 / 4900) loss: 1.332996\n",
      "(Iteration 1701 / 4900) loss: 1.341420\n",
      "(Iteration 1801 / 4900) loss: 1.456930\n",
      "(Iteration 1901 / 4900) loss: 1.427660\n",
      "(Epoch 4 / 10) train acc: 0.504000; val_acc: 0.487000\n",
      "(Iteration 2001 / 4900) loss: 1.425840\n",
      "(Iteration 2101 / 4900) loss: 1.389251\n",
      "(Iteration 2201 / 4900) loss: 1.458540\n",
      "(Iteration 2301 / 4900) loss: 1.190365\n",
      "(Iteration 2401 / 4900) loss: 1.231720\n",
      "(Epoch 5 / 10) train acc: 0.529000; val_acc: 0.481000\n",
      "(Iteration 2501 / 4900) loss: 1.311956\n",
      "(Iteration 2601 / 4900) loss: 1.257376\n",
      "(Iteration 2701 / 4900) loss: 1.255261\n",
      "(Iteration 2801 / 4900) loss: 1.359596\n",
      "(Iteration 2901 / 4900) loss: 1.252704\n",
      "(Epoch 6 / 10) train acc: 0.563000; val_acc: 0.512000\n",
      "(Iteration 3001 / 4900) loss: 1.141624\n",
      "(Iteration 3101 / 4900) loss: 1.041271\n",
      "(Iteration 3201 / 4900) loss: 1.537659\n",
      "(Iteration 3301 / 4900) loss: 1.195672\n",
      "(Iteration 3401 / 4900) loss: 1.411472\n",
      "(Epoch 7 / 10) train acc: 0.547000; val_acc: 0.494000\n",
      "(Iteration 3501 / 4900) loss: 1.193842\n",
      "(Iteration 3601 / 4900) loss: 1.033797\n",
      "(Iteration 3701 / 4900) loss: 1.246135\n",
      "(Iteration 3801 / 4900) loss: 1.203015\n",
      "(Iteration 3901 / 4900) loss: 0.929300\n",
      "(Epoch 8 / 10) train acc: 0.545000; val_acc: 0.502000\n",
      "(Iteration 4001 / 4900) loss: 1.089804\n",
      "(Iteration 4101 / 4900) loss: 1.174137\n",
      "(Iteration 4201 / 4900) loss: 1.052676\n",
      "(Iteration 4301 / 4900) loss: 0.998013\n",
      "(Iteration 4401 / 4900) loss: 1.530019\n",
      "(Epoch 9 / 10) train acc: 0.594000; val_acc: 0.513000\n",
      "(Iteration 4501 / 4900) loss: 1.118980\n",
      "(Iteration 4601 / 4900) loss: 1.280910\n",
      "(Iteration 4701 / 4900) loss: 1.336721\n",
      "(Iteration 4801 / 4900) loss: 1.083075\n",
      "(Epoch 10 / 10) train acc: 0.583000; val_acc: 0.476000\n",
      "None\n"
     ]
    }
   ],
   "source": [
    "model = TwoLayerNet()\n",
    "solver = None\n",
    "\n",
    "##############################################################################\n",
    "# TODO: Use a Solver instance to train a TwoLayerNet that achieves at least  #\n",
    "# 50% accuracy on the validation set.                                        #\n",
    "##############################################################################\n",
    "#data = {\n",
    "#      'X_train': X_train,\n",
    "#      'y_train': y_train,\n",
    "#      'X_val': X_val,\n",
    "#      'y_val': y_val\n",
    "#    }\n",
    "solver = Solver(model, data,\n",
    "                    update_rule='sgd',\n",
    "                    optim_config={\n",
    "                      'learning_rate': 1e-3,\n",
    "                    },\n",
    "                    lr_decay=0.95,\n",
    "                    num_epochs=10, batch_size=100,\n",
    "                    print_every=100)\n",
    "model_params = solver.train()\n",
    "print(model_params)\n",
    "\n",
    "##############################################################################\n",
    "#                             END OF YOUR CODE                               #\n",
    "##############################################################################"
   ]
  },
  {
   "cell_type": "code",
   "execution_count": 54,
   "metadata": {
    "collapsed": false
   },
   "outputs": [
    {
     "data": {
      "text/plain": [
       "{'W1': array([[ -2.01009448e-03,   5.54804352e-04,  -1.10610168e-03, ...,\n",
       "          -1.47185132e-03,   2.58399671e-03,   8.78188451e-05],\n",
       "        [ -2.06588204e-03,   6.09534872e-04,  -5.73286701e-04, ...,\n",
       "           3.14041600e-03,   5.52789876e-04,   1.72265227e-03],\n",
       "        [  2.05751017e-04,   3.61899695e-04,  -3.70331323e-03, ...,\n",
       "           1.20622803e-03,   2.47758982e-03,   1.41815541e-03],\n",
       "        ..., \n",
       "        [  1.05395285e-04,  -1.49029893e-03,  -1.92361269e-03, ...,\n",
       "          -1.90590987e-03,  -9.06262854e-05,   4.21779912e-03],\n",
       "        [  1.22200682e-03,  -6.33158703e-04,   1.97388799e-04, ...,\n",
       "          -2.54598146e-03,  -2.70561210e-04,   2.04269032e-03],\n",
       "        [ -1.59896914e-03,  -1.72419167e-03,  -2.63766519e-04, ...,\n",
       "          -4.52110532e-03,   3.52034937e-04,   3.64996394e-03]]),\n",
       " 'W2': array([[  6.34795307e-03,   1.30956114e-02,  -1.83722805e-02,\n",
       "          -5.66602514e-03,   3.82724393e-03,  -8.98771845e-03,\n",
       "          -1.34844124e-02,  -1.92265927e-03,   3.38906440e-02,\n",
       "          -6.18742959e-03],\n",
       "        [  2.10316840e-02,   1.30204894e-02,  -1.29933132e-03,\n",
       "          -6.10876746e-03,  -2.21356425e-02,  -5.91110246e-03,\n",
       "           5.80474086e-03,   1.42313606e-02,  -7.89166796e-03,\n",
       "          -1.03789985e-02],\n",
       "        [  6.54743854e-03,  -2.47966671e-03,  -3.59081742e-04,\n",
       "           1.15102341e-02,  -6.78518527e-03,  -7.87249158e-03,\n",
       "          -2.69015165e-02,   6.03504947e-03,   1.53021387e-03,\n",
       "           1.41913231e-02],\n",
       "        [ -2.75205270e-02,   6.93916541e-03,  -1.03766579e-02,\n",
       "           1.01521932e-03,   6.35604410e-04,   1.02176271e-02,\n",
       "           1.76328137e-02,   1.16793630e-03,  -2.23291943e-02,\n",
       "           2.05209276e-02],\n",
       "        [ -4.25646881e-03,   5.98900715e-03,  -1.76648222e-02,\n",
       "           1.05547216e-02,  -7.77081204e-03,   2.28088658e-02,\n",
       "           1.92675498e-02,  -1.96640450e-02,  -8.01247953e-03,\n",
       "           6.47310169e-05],\n",
       "        [  9.93151793e-03,  -1.46517921e-02,  -1.16516269e-03,\n",
       "          -1.06472776e-02,   1.13399921e-02,  -1.30569658e-03,\n",
       "           3.56311838e-02,  -1.02935315e-03,  -1.57827167e-02,\n",
       "          -1.01169209e-02],\n",
       "        [ -1.64205022e-02,   6.45095811e-03,  -1.46046111e-02,\n",
       "           5.11679438e-03,   7.27658227e-03,   5.48758006e-04,\n",
       "           2.03086616e-02,   9.83410148e-03,   1.35430004e-02,\n",
       "          -2.47448834e-02],\n",
       "        [  1.30134544e-02,   1.71789825e-02,   4.09510897e-03,\n",
       "          -7.90745469e-03,   9.32073495e-03,  -8.16539476e-03,\n",
       "          -8.59032227e-03,  -3.32005264e-02,   1.22165361e-02,\n",
       "          -1.38602201e-03],\n",
       "        [ -3.35357600e-03,  -3.13015964e-02,   1.92988534e-02,\n",
       "           1.27954070e-02,   2.30093494e-03,   2.09558512e-02,\n",
       "          -1.60496021e-02,   1.65705977e-02,  -1.90933854e-02,\n",
       "          -2.45511844e-03],\n",
       "        [  1.06492999e-02,  -2.23451464e-02,   4.14497998e-03,\n",
       "          -3.59012027e-03,   4.99538220e-03,  -1.30070977e-03,\n",
       "           2.39604365e-03,   2.56384085e-02,   5.58958977e-03,\n",
       "          -2.44620154e-02],\n",
       "        [ -7.53184814e-03,  -3.32587323e-02,  -4.53730051e-03,\n",
       "           1.93828848e-02,  -2.04078651e-03,   2.05069045e-02,\n",
       "           5.58243410e-03,  -6.90073153e-03,   7.65100176e-03,\n",
       "           2.39168832e-04],\n",
       "        [ -5.77007734e-04,   8.81723100e-04,   2.39618948e-02,\n",
       "           1.17435914e-03,  -5.78596361e-03,   1.30169834e-02,\n",
       "           1.25726769e-02,   1.20462062e-02,  -3.63760290e-02,\n",
       "          -1.89589273e-02],\n",
       "        [  9.10105603e-03,  -9.73121143e-03,   2.10392563e-02,\n",
       "           8.72269272e-03,   1.39246199e-02,   1.26308365e-02,\n",
       "           6.35220258e-03,  -1.50665711e-02,  -3.34038488e-02,\n",
       "          -1.44531422e-02],\n",
       "        [  1.62751952e-03,   4.72621481e-03,   1.44912397e-03,\n",
       "           1.14559622e-02,  -2.96635913e-02,   2.08149998e-02,\n",
       "           1.65680293e-04,   1.00037634e-02,  -2.62607197e-02,\n",
       "           1.05528011e-02],\n",
       "        [ -2.53097182e-02,   5.03024286e-03,  -1.04241593e-02,\n",
       "           1.50124249e-02,  -2.74337182e-04,   2.03692626e-03,\n",
       "           1.76350359e-02,   1.51159175e-02,   2.81725044e-04,\n",
       "          -1.85058987e-02],\n",
       "        [  1.67262204e-02,  -1.39532417e-02,  -2.53586367e-03,\n",
       "          -9.41756715e-03,   2.19460306e-04,  -8.58363668e-03,\n",
       "          -7.21060254e-03,  -1.21370917e-02,   3.90771151e-03,\n",
       "           3.27933534e-02],\n",
       "        [ -3.84817092e-03,  -2.53965656e-02,  -3.63398715e-03,\n",
       "           7.69895208e-03,   1.07634810e-02,   1.57884170e-02,\n",
       "          -6.19679997e-03,   2.74802865e-02,  -3.03084351e-02,\n",
       "           7.72477965e-03],\n",
       "        [  1.42169360e-03,  -1.57328509e-02,   6.70053748e-03,\n",
       "           1.43881095e-02,  -4.81712092e-03,   1.58130168e-02,\n",
       "          -1.66437710e-02,   2.42938915e-02,  -2.48016952e-02,\n",
       "           3.45954326e-03],\n",
       "        [  1.36022399e-02,  -3.10782683e-03,   9.91934930e-03,\n",
       "          -2.30912770e-02,   1.10332754e-02,  -4.13439297e-03,\n",
       "           1.47956030e-02,  -2.27691519e-02,   8.69435708e-03,\n",
       "          -3.25831312e-03],\n",
       "        [  1.21262825e-02,   1.94159406e-03,  -8.84007835e-03,\n",
       "           5.40691056e-04,  -6.40812325e-03,  -7.47429174e-03,\n",
       "           5.01000906e-03,   1.83564259e-02,  -2.54005790e-02,\n",
       "           1.15234269e-02],\n",
       "        [ -4.04039903e-03,  -3.15170942e-03,   2.68284401e-02,\n",
       "          -3.61620608e-03,   1.98157617e-02,  -2.33479180e-02,\n",
       "           7.93472369e-03,   6.78624764e-03,  -1.31936667e-02,\n",
       "          -1.34173376e-02],\n",
       "        [ -3.26535760e-02,   3.28609205e-03,   2.18594716e-02,\n",
       "          -3.50604253e-03,   1.28011822e-02,   5.42167760e-04,\n",
       "           3.99445145e-03,   1.52074307e-03,   1.00242885e-03,\n",
       "          -1.22865529e-02],\n",
       "        [ -1.11159412e-02,   2.84008792e-02,  -5.48312697e-03,\n",
       "          -4.64004262e-03,  -1.35681544e-02,  -2.76663430e-03,\n",
       "           7.64451154e-03,  -3.27829196e-02,   1.42163843e-02,\n",
       "           2.09599520e-02],\n",
       "        [ -1.89253864e-02,  -1.73347933e-02,   2.13043837e-02,\n",
       "           1.87899706e-02,   6.53028864e-03,   1.61090710e-02,\n",
       "          -4.74591901e-03,  -7.83543277e-03,  -5.72535643e-03,\n",
       "          -9.70548389e-03],\n",
       "        [  1.47463270e-02,  -1.38128611e-02,   1.63530810e-02,\n",
       "          -5.52702050e-03,   1.72941064e-02,  -1.00589215e-02,\n",
       "          -1.27704920e-02,  -1.13887669e-02,   1.04053231e-02,\n",
       "          -7.07902227e-03],\n",
       "        [ -2.62840492e-02,  -4.85317274e-04,   6.11204060e-03,\n",
       "           6.69208156e-03,   2.29332253e-02,   1.44637823e-02,\n",
       "          -6.51675323e-03,   1.82886966e-02,  -2.12979232e-02,\n",
       "          -1.25858401e-02],\n",
       "        [  8.85558428e-03,   3.17263860e-02,   4.80882060e-03,\n",
       "          -1.07121442e-02,  -9.86402863e-03,  -2.77735058e-02,\n",
       "           2.44966574e-02,  -4.22411207e-02,  -9.00030597e-04,\n",
       "           1.63213681e-02],\n",
       "        [  2.70590367e-02,   2.97097561e-02,  -1.23019725e-02,\n",
       "          -1.60566145e-02,   6.90971069e-04,  -4.25378748e-03,\n",
       "          -3.30906979e-02,  -9.59369890e-03,   1.02477024e-02,\n",
       "           1.18621454e-02],\n",
       "        [  4.65785425e-03,   6.19492494e-03,   1.75588663e-02,\n",
       "           3.81989615e-03,  -7.84361235e-03,   6.14494907e-03,\n",
       "           1.55157452e-02,  -6.15078529e-03,  -1.16536814e-02,\n",
       "          -2.78830107e-02],\n",
       "        [ -2.77020238e-02,   1.95089506e-02,  -1.25035053e-02,\n",
       "           2.63095623e-04,  -1.22006831e-02,   9.00482977e-03,\n",
       "           2.23937392e-02,   1.72392144e-02,  -1.81610781e-02,\n",
       "           2.52233797e-03],\n",
       "        [ -6.06314217e-03,  -2.27511258e-02,  -8.26965341e-04,\n",
       "           2.43086923e-02,  -6.90412699e-03,   1.31392843e-02,\n",
       "           1.16989480e-02,   4.78190219e-03,  -4.01929939e-03,\n",
       "          -1.39654681e-02],\n",
       "        [ -5.10199254e-03,  -1.22393236e-02,   6.61803010e-03,\n",
       "           1.12045562e-02,   1.93098269e-02,  -2.88792514e-04,\n",
       "          -1.85393501e-02,   1.53283483e-02,   7.75891314e-03,\n",
       "          -2.39246867e-02],\n",
       "        [ -1.72888192e-02,  -2.52296264e-02,   8.11956967e-03,\n",
       "           1.20099628e-02,   7.04560581e-03,   1.95881692e-02,\n",
       "          -2.05821726e-02,   1.20107146e-02,  -1.11204333e-02,\n",
       "           5.62495365e-03],\n",
       "        [  1.47307334e-02,  -1.23074464e-02,  -7.61072430e-03,\n",
       "           1.38622736e-02,   8.35743881e-03,  -3.42922040e-03,\n",
       "           1.21434038e-02,  -9.60849939e-03,   1.22385110e-02,\n",
       "          -2.65758706e-02],\n",
       "        [ -6.99593921e-03,   2.30874628e-02,  -1.04673504e-02,\n",
       "          -1.75095030e-02,  -1.95621799e-03,  -2.17948237e-02,\n",
       "          -1.12690462e-02,   1.29232069e-02,   1.63368619e-02,\n",
       "           1.97203790e-02],\n",
       "        [ -9.88528432e-03,  -1.22814790e-02,  -9.55621323e-03,\n",
       "           1.18356837e-02,   2.88606454e-03,   2.44259323e-02,\n",
       "           1.33389066e-02,  -1.83959322e-02,   1.42243965e-02,\n",
       "          -1.83271169e-02],\n",
       "        [ -9.05588133e-03,  -1.59936210e-02,  -1.17849766e-02,\n",
       "           1.66669852e-02,   2.82431139e-03,   1.17941498e-02,\n",
       "           1.80859745e-02,   5.05209756e-03,   1.08008156e-02,\n",
       "          -2.70864703e-02],\n",
       "        [ -2.03730756e-02,   5.32536118e-03,   5.64193017e-03,\n",
       "           8.70961879e-03,  -9.01094132e-03,   3.81461207e-03,\n",
       "           5.22464762e-03,  -2.55114614e-02,   1.24858440e-02,\n",
       "           1.58672522e-02],\n",
       "        [ -3.85666720e-03,  -2.56562806e-02,   4.82500272e-03,\n",
       "           4.47170589e-03,   2.93302821e-02,   1.31869641e-02,\n",
       "           3.94726228e-03,   7.42123619e-03,  -2.12556108e-02,\n",
       "          -1.76901239e-02],\n",
       "        [  9.37082353e-03,  -2.88560486e-02,  -8.35864145e-03,\n",
       "           5.57624662e-03,  -1.77066715e-02,   6.60653476e-03,\n",
       "          -7.41664896e-03,   1.68867391e-02,   8.96396126e-03,\n",
       "           6.24682054e-03],\n",
       "        [ -1.78346289e-02,   2.28590140e-02,  -1.19460511e-02,\n",
       "          -1.51967824e-03,  -1.50616928e-02,   3.71622305e-03,\n",
       "           2.27017719e-02,  -3.95140814e-02,   1.68127622e-02,\n",
       "           1.38421580e-02],\n",
       "        [  5.12082001e-03,  -3.61030753e-03,  -7.35961327e-03,\n",
       "          -8.31225157e-03,  -3.03085934e-03,  -7.84649876e-03,\n",
       "          -7.71338647e-03,   3.92305405e-02,  -8.40138503e-03,\n",
       "           4.37863958e-03],\n",
       "        [ -6.12165401e-03,  -2.00973172e-02,  -9.56916496e-03,\n",
       "           1.77454409e-02,   1.55633758e-02,   9.95616218e-05,\n",
       "          -1.23584899e-02,   7.01131448e-04,  -3.62001896e-04,\n",
       "           1.26488229e-02],\n",
       "        [ -9.35862683e-03,   1.28457054e-02,  -8.47217318e-03,\n",
       "          -1.34782325e-02,  -2.62400796e-03,   4.86318399e-03,\n",
       "          -1.69936283e-02,   2.50555767e-02,   6.12348012e-03,\n",
       "          -3.00131490e-04],\n",
       "        [  2.14077411e-02,   9.55248291e-03,  -6.10750976e-03,\n",
       "          -2.58744925e-02,  -1.15653233e-02,  -1.82718798e-02,\n",
       "          -9.58458426e-03,  -4.90493192e-03,   2.72672418e-02,\n",
       "           1.71239676e-02],\n",
       "        [  1.72269596e-02,  -2.51012209e-02,  -2.54591850e-03,\n",
       "           8.46750570e-03,   1.70154697e-02,   1.05270400e-02,\n",
       "          -1.35566672e-02,   3.98129992e-03,  -1.54047174e-02,\n",
       "          -4.48947910e-03],\n",
       "        [ -1.43568517e-02,   2.07790405e-02,  -4.71398016e-03,\n",
       "           9.26795796e-03,  -3.33562775e-03,  -6.00069989e-03,\n",
       "           9.55301208e-03,  -7.91640170e-03,  -3.00346872e-02,\n",
       "           2.31500833e-02],\n",
       "        [ -2.97604905e-03,   2.16040249e-02,   4.50839139e-04,\n",
       "          -7.03493157e-03,  -1.71850539e-02,   2.44482608e-02,\n",
       "          -7.17349165e-03,  -1.40684807e-02,   3.27521732e-03,\n",
       "           4.22745192e-03],\n",
       "        [ -4.99724305e-03,  -1.84654562e-02,   7.36397555e-03,\n",
       "           1.80697676e-02,  -3.32114552e-03,   9.56268339e-03,\n",
       "           7.44081571e-04,  -1.51721168e-02,   1.13312316e-02,\n",
       "          -5.78483821e-03],\n",
       "        [  1.36084143e-02,  -4.92695410e-03,   2.07101825e-02,\n",
       "          -1.66668896e-02,   3.35795210e-03,  -2.21725000e-02,\n",
       "          -8.66466371e-03,   1.01562317e-02,   9.94451637e-03,\n",
       "          -4.80414146e-03],\n",
       "        [ -3.06943368e-02,  -2.58328469e-03,   2.30786241e-02,\n",
       "           9.41351847e-03,  -1.48517410e-03,   1.47643486e-02,\n",
       "           1.33010717e-02,  -9.33279429e-04,  -2.82836095e-02,\n",
       "           6.48694346e-03],\n",
       "        [  1.73580089e-03,  -9.06486039e-04,  -8.87138729e-03,\n",
       "          -1.18906558e-02,   7.87173705e-03,  -1.88243335e-02,\n",
       "          -2.25728428e-02,   2.26375453e-02,   1.71229332e-02,\n",
       "           1.19594577e-02],\n",
       "        [  2.83721895e-03,   1.15487484e-02,   1.56076315e-02,\n",
       "          -1.03167407e-02,   3.36145312e-03,  -1.00474821e-02,\n",
       "          -1.50973935e-02,   7.68035895e-03,   1.19385166e-02,\n",
       "          -1.56059181e-02],\n",
       "        [  5.55211110e-04,  -2.42364579e-02,   2.27343224e-02,\n",
       "           2.50266463e-04,   1.22463411e-02,   5.66615739e-03,\n",
       "           1.88780020e-02,   2.02843240e-03,  -2.09213624e-02,\n",
       "          -1.48316120e-02],\n",
       "        [ -1.31578617e-02,  -1.11832869e-02,   9.19583436e-03,\n",
       "           5.12033921e-03,   4.98118991e-03,   1.42105421e-02,\n",
       "           2.28488108e-03,  -2.22453942e-02,   2.15999366e-02,\n",
       "          -9.43304536e-03],\n",
       "        [  2.00665965e-02,  -9.70648324e-03,   1.24407008e-03,\n",
       "          -2.47992766e-03,   2.26787021e-02,  -2.21218429e-03,\n",
       "           1.98318481e-02,  -6.03580573e-03,  -2.95851829e-02,\n",
       "          -1.54032188e-02],\n",
       "        [  1.55395141e-02,   4.79369903e-03,   1.80604850e-02,\n",
       "           1.19280851e-02,   4.51340356e-03,   6.01340594e-03,\n",
       "           3.78210476e-03,  -2.25990212e-02,  -1.68086815e-02,\n",
       "          -2.14558824e-02],\n",
       "        [ -5.86037994e-03,  -1.72490698e-02,   1.63302349e-02,\n",
       "           1.36722709e-02,   7.11183423e-03,   7.40693487e-04,\n",
       "           1.21219107e-02,  -1.95028457e-02,  -1.77149762e-03,\n",
       "          -3.74487692e-03],\n",
       "        [ -4.08328907e-03,   8.56182148e-03,  -1.92083218e-02,\n",
       "          -6.50783564e-03,  -1.81170779e-02,  -6.08689338e-03,\n",
       "           1.77743897e-02,   2.06258331e-02,  -9.85087888e-03,\n",
       "           1.54246599e-02],\n",
       "        [  1.53613782e-02,   1.74910046e-02,  -1.93872345e-03,\n",
       "          -2.20531208e-02,  -1.13637034e-02,  -1.08873403e-02,\n",
       "          -2.66054975e-02,  -4.54571546e-03,   1.28446452e-02,\n",
       "           3.11305099e-02],\n",
       "        [  4.75584824e-03,   2.42164672e-02,   8.05911633e-04,\n",
       "           4.96171071e-03,  -2.22220056e-02,  -2.78126660e-03,\n",
       "          -1.32545634e-02,  -1.47059978e-02,   1.18143302e-03,\n",
       "           1.43692479e-02],\n",
       "        [  1.34480033e-02,   2.25801552e-02,   7.66450629e-03,\n",
       "          -1.82803848e-02,  -3.77106772e-03,  -3.53774860e-02,\n",
       "          -4.74989230e-03,  -9.44173422e-03,   1.15192725e-02,\n",
       "           1.40892471e-02],\n",
       "        [  1.29713090e-02,   3.70890310e-02,  -5.91085552e-03,\n",
       "          -9.65279107e-03,  -8.65006303e-03,  -2.87863180e-03,\n",
       "          -1.13381233e-02,  -1.02034885e-02,  -1.21043340e-02,\n",
       "           1.21422536e-02],\n",
       "        [ -1.31083964e-02,  -8.55084533e-03,  -1.32991058e-02,\n",
       "           3.41519986e-03,  -1.74918161e-02,   9.99888225e-03,\n",
       "           2.09087401e-02,  -1.98527025e-03,   2.12116029e-02,\n",
       "          -1.59408775e-03],\n",
       "        [ -3.95686309e-04,  -4.97447585e-03,   4.22799893e-03,\n",
       "          -1.20628340e-03,   3.09215110e-02,   2.79838302e-04,\n",
       "          -2.40345884e-02,  -2.78770538e-03,  -7.02384386e-03,\n",
       "           9.24592374e-03],\n",
       "        [  1.93750238e-02,   4.28304650e-03,   7.45351555e-03,\n",
       "           6.98693801e-03,   1.22253239e-02,   4.13438609e-03,\n",
       "          -1.96051517e-02,  -1.75760155e-02,  -7.01189833e-04,\n",
       "          -1.43033202e-02],\n",
       "        [  1.31426471e-03,  -2.63273452e-02,   1.08956542e-02,\n",
       "           1.07550306e-02,  -3.96624350e-03,   1.21580404e-02,\n",
       "          -2.05080721e-02,   2.03269302e-02,  -1.05444197e-02,\n",
       "           2.20396061e-03],\n",
       "        [ -1.97932051e-02,  -1.72253305e-02,   1.53918435e-02,\n",
       "           9.87931686e-03,   1.49840800e-02,  -2.98772543e-04,\n",
       "           1.30563683e-02,   1.68566567e-02,  -7.30584543e-03,\n",
       "          -2.03072927e-02],\n",
       "        [  1.69951789e-02,   2.16666976e-02,   4.61798214e-03,\n",
       "          -1.07456415e-02,   6.66537723e-03,  -1.82482282e-02,\n",
       "          -2.93647449e-02,   1.84571327e-02,  -2.05471792e-03,\n",
       "          -1.13433747e-02],\n",
       "        [ -8.00457030e-03,   2.59670796e-02,   8.37746795e-04,\n",
       "           7.07888508e-03,   9.29644137e-05,   1.12055584e-02,\n",
       "          -1.14867340e-02,  -2.15892562e-02,   4.32810925e-03,\n",
       "          -4.98140819e-03],\n",
       "        [  4.11282233e-04,   2.88289921e-02,  -1.26375641e-02,\n",
       "           3.99237932e-03,  -3.52197147e-03,  -1.63997483e-02,\n",
       "          -1.71366685e-03,  -2.00841401e-02,   1.34893969e-02,\n",
       "           1.04992184e-02],\n",
       "        [  5.75498064e-04,   1.37146375e-02,  -2.52156039e-03,\n",
       "           3.62584978e-03,   3.88522022e-03,  -1.34160925e-02,\n",
       "           7.05458056e-03,  -2.81722241e-02,  -1.16943264e-02,\n",
       "           2.71839944e-02],\n",
       "        [ -7.54056764e-04,  -9.68765731e-03,  -3.51964834e-03,\n",
       "          -1.36882590e-02,   2.06154468e-02,  -1.21190054e-02,\n",
       "           1.77236625e-02,   1.31210011e-02,  -2.56106156e-03,\n",
       "          -6.83109582e-03],\n",
       "        [ -4.53954010e-03,  -2.29681072e-02,   3.38197218e-02,\n",
       "           1.19412788e-02,  -5.69242260e-03,   9.87732146e-03,\n",
       "           1.52255069e-02,  -1.13255640e-02,   4.97143252e-04,\n",
       "          -2.37168037e-02],\n",
       "        [ -9.78998580e-03,   8.05927088e-04,  -1.39548164e-02,\n",
       "           1.13564537e-02,  -2.51682473e-02,   1.63190236e-02,\n",
       "           1.73562312e-02,   1.64268997e-02,  -8.87401161e-04,\n",
       "          -9.97370600e-03],\n",
       "        [ -2.01513262e-03,  -1.99107147e-02,  -5.79723225e-03,\n",
       "           1.67070574e-03,   6.24507255e-03,   1.65026482e-02,\n",
       "          -1.32701766e-02,   3.82113418e-02,  -2.88914473e-02,\n",
       "           8.44625402e-03],\n",
       "        [ -1.15476909e-02,  -1.35995174e-02,  -1.96035115e-03,\n",
       "          -1.21186774e-02,   2.43732116e-03,  -2.13505839e-03,\n",
       "           1.99122180e-02,   2.40666654e-02,  -1.00490615e-02,\n",
       "           4.17967748e-04],\n",
       "        [ -1.38613729e-02,   3.12325755e-02,  -1.16246833e-02,\n",
       "          -1.11164220e-02,  -2.20103879e-03,  -1.44855894e-02,\n",
       "           9.08165773e-03,  -2.58014602e-02,   1.35481380e-02,\n",
       "           2.91677558e-02],\n",
       "        [  1.73434398e-02,   5.27448120e-03,  -2.79750863e-03,\n",
       "          -9.99135105e-03,  -1.37101645e-02,  -1.86379326e-02,\n",
       "           1.66216643e-02,  -1.93343292e-02,  -2.54665016e-03,\n",
       "           2.83269388e-02],\n",
       "        [ -3.94033235e-03,   8.36757037e-03,  -1.37804086e-02,\n",
       "           9.85702223e-03,   2.12303174e-03,  -1.77671305e-02,\n",
       "           1.89646128e-02,  -2.00403656e-02,  -6.83511450e-03,\n",
       "           2.29169600e-02],\n",
       "        [  1.73342994e-02,   2.11758819e-02,  -1.04752009e-02,\n",
       "          -2.00887068e-02,   4.81498807e-03,  -2.43686782e-02,\n",
       "          -2.29752018e-02,   7.61285949e-03,   2.39554737e-02,\n",
       "           4.14578891e-03],\n",
       "        [  1.96938844e-02,   3.74871595e-02,  -9.32899168e-03,\n",
       "          -2.46176714e-02,   5.15578919e-03,  -1.49476224e-02,\n",
       "          -3.62631608e-02,  -1.43447920e-03,   1.60494558e-02,\n",
       "           9.18410223e-03],\n",
       "        [  1.31191963e-02,  -1.94859000e-02,   1.71745260e-02,\n",
       "           1.35262427e-02,   1.74405491e-02,   4.82967546e-03,\n",
       "          -1.98576909e-03,   1.92562223e-02,  -3.43667621e-02,\n",
       "          -2.11923132e-02],\n",
       "        [  2.00791358e-03,   1.43305314e-02,  -1.66608117e-02,\n",
       "          -1.16686531e-02,   7.60222043e-03,  -4.75134053e-03,\n",
       "          -1.95990505e-02,   1.44201950e-02,   2.16463222e-02,\n",
       "          -7.14547275e-03],\n",
       "        [  6.32133545e-03,  -4.88964520e-03,  -8.76332881e-04,\n",
       "          -1.11571736e-02,  -2.44987706e-03,  -1.00821835e-02,\n",
       "          -6.03450322e-03,   3.54647005e-02,   8.89512761e-04,\n",
       "          -8.05250785e-03],\n",
       "        [ -8.05992277e-03,  -2.03473027e-02,   3.24300505e-02,\n",
       "           7.88997266e-04,  -1.27690969e-02,   4.55056321e-03,\n",
       "          -3.66811351e-03,  -4.12414762e-03,  -1.30354393e-03,\n",
       "           1.26664312e-02],\n",
       "        [ -9.06155630e-03,  -1.01102687e-03,  -1.99058874e-02,\n",
       "           1.19716299e-02,  -1.63249077e-02,   1.33171078e-02,\n",
       "           1.87722932e-02,   1.35992433e-02,  -2.90342094e-03,\n",
       "          -1.18108652e-02],\n",
       "        [ -2.09418439e-02,   4.42867549e-03,   5.08860502e-04,\n",
       "           4.40436736e-03,  -5.21702631e-03,   3.01326136e-03,\n",
       "          -6.97768933e-03,   8.36324851e-03,  -9.00452484e-03,\n",
       "           2.21385855e-02],\n",
       "        [  8.04610995e-03,  -3.03927979e-02,   1.30842807e-02,\n",
       "           1.22772406e-02,   7.68907572e-03,   1.13078976e-02,\n",
       "           9.70414701e-03,  -1.33618226e-02,   8.79591407e-03,\n",
       "          -2.60717743e-02],\n",
       "        [  6.87198102e-03,  -4.54125879e-03,  -6.69632861e-03,\n",
       "           3.21938864e-03,   1.64060826e-02,   1.25227605e-02,\n",
       "           1.01741663e-02,  -8.80014923e-03,   8.74110244e-03,\n",
       "          -3.78674486e-02],\n",
       "        [  1.20632118e-02,   4.03730328e-03,  -2.72914312e-02,\n",
       "          -1.05189574e-03,   8.01213771e-03,  -8.65592867e-03,\n",
       "          -1.69377372e-02,  -7.30740971e-04,   1.52925152e-02,\n",
       "           2.10678572e-02],\n",
       "        [  3.44500865e-03,  -6.90763434e-03,   1.50780518e-02,\n",
       "          -4.05829477e-03,  -6.25134057e-03,  -2.81331615e-02,\n",
       "          -8.25561283e-03,  -1.00782227e-03,   1.78179282e-02,\n",
       "           1.45457497e-02],\n",
       "        [ -4.04786678e-03,   3.40227135e-02,  -2.73961616e-03,\n",
       "           2.20679425e-04,  -3.45263487e-02,   8.96418689e-03,\n",
       "          -3.43078731e-03,  -1.17328039e-02,  -3.70330111e-03,\n",
       "           1.87231924e-02],\n",
       "        [  1.45565616e-02,   1.13800262e-03,  -8.80304718e-03,\n",
       "           1.48291043e-02,  -5.71758947e-03,   2.21242215e-02,\n",
       "           7.49708381e-03,  -1.19524823e-02,  -3.29388307e-02,\n",
       "          -2.98588286e-03],\n",
       "        [ -6.24563476e-03,   1.33210127e-02,  -2.12019975e-02,\n",
       "          -8.05531811e-03,   1.16429601e-03,  -1.26945750e-02,\n",
       "          -1.16740080e-02,   3.53909917e-03,   2.98671618e-02,\n",
       "           7.96401333e-03],\n",
       "        [  2.22782483e-02,  -1.83960045e-03,   6.69458249e-03,\n",
       "          -6.41583036e-03,  -1.90202461e-02,  -6.90077824e-03,\n",
       "          -1.72167426e-02,  -1.27016572e-03,   2.18416098e-02,\n",
       "          -1.19633863e-03],\n",
       "        [  1.13383051e-02,  -1.95673649e-02,   5.83037348e-03,\n",
       "           5.50630823e-03,  -1.60318469e-02,  -1.08009346e-02,\n",
       "           2.87218232e-02,  -1.16394119e-02,   1.35621071e-02,\n",
       "          -1.05501324e-02],\n",
       "        [  6.18890153e-03,  -1.04504889e-02,   2.47382267e-02,\n",
       "          -6.05765198e-03,   1.05779371e-02,  -1.38435254e-02,\n",
       "          -1.90078125e-02,   2.66767095e-03,   1.06079744e-02,\n",
       "          -7.77517201e-03],\n",
       "        [  2.83058804e-02,   6.96165373e-03,  -1.25682685e-03,\n",
       "           7.13649142e-04,   1.39138339e-03,  -1.24004273e-02,\n",
       "           1.62074115e-02,  -4.86251021e-03,  -1.48369707e-02,\n",
       "          -2.56897734e-02],\n",
       "        [ -9.46669277e-04,   1.71983984e-02,  -2.00524001e-02,\n",
       "          -5.22242432e-03,   5.59984327e-03,  -6.58451669e-03,\n",
       "          -1.81954132e-02,  -1.68836452e-02,   1.60674512e-02,\n",
       "           2.75353389e-02]]),\n",
       " 'b1': array([ -2.59198959e-04,  -5.25752132e-04,  -2.92322570e-04,\n",
       "         -2.21138173e-04,  -2.56363176e-04,   3.63882096e-04,\n",
       "          7.67139608e-05,  -7.65080648e-05,  -1.16222766e-04,\n",
       "          5.47411752e-06,  -1.26214601e-04,  -1.77109094e-04,\n",
       "          1.81104387e-04,  -7.40617793e-04,  -6.44218577e-05,\n",
       "         -9.86556286e-05,  -4.37534567e-04,  -4.63833233e-04,\n",
       "          1.48582633e-04,  -2.17380053e-04,   7.33576430e-04,\n",
       "          4.45008590e-04,  -4.79784138e-04,   2.09785311e-05,\n",
       "          1.67260135e-04,  -2.04872990e-05,   6.82609852e-06,\n",
       "         -5.60972784e-04,   1.65998314e-05,  -4.93536289e-04,\n",
       "         -1.62139708e-04,   1.45388336e-04,  -8.26404578e-05,\n",
       "          1.45522909e-04,  -3.96417100e-04,   3.07949540e-05,\n",
       "         -3.50128350e-06,  -2.51499497e-04,   3.80798173e-04,\n",
       "         -2.47235915e-04,  -2.26383576e-04,  -2.49598810e-04,\n",
       "         -9.55349703e-05,  -3.06426222e-04,  -4.08011285e-04,\n",
       "          3.03872040e-05,  -2.74747489e-04,  -4.51723511e-04,\n",
       "         -8.07807218e-05,   5.06222623e-05,  -2.09636855e-04,\n",
       "         -2.04958779e-04,   3.67390862e-05,   5.63280600e-04,\n",
       "          1.98423171e-04,   5.60383109e-04,   9.19783126e-05,\n",
       "          2.90621207e-04,  -2.93110661e-04,  -5.34355527e-04,\n",
       "         -5.64410024e-04,  -2.32858553e-04,  -6.15430742e-04,\n",
       "         -1.45258192e-04,   1.10836510e-05,  -1.41083456e-04,\n",
       "         -3.39651300e-04,   3.47867175e-04,  -3.89479572e-04,\n",
       "         -3.65097170e-04,  -4.50303930e-04,  -1.32537086e-04,\n",
       "          4.98252805e-04,   9.51120649e-05,  -4.02950033e-04,\n",
       "         -3.97741566e-04,   1.45575710e-04,  -4.54816739e-04,\n",
       "         -1.83977911e-04,  -1.76631739e-04,  -3.72296174e-04,\n",
       "         -5.37787894e-04,   2.28474061e-04,  -3.23615399e-04,\n",
       "         -1.20331096e-04,  -4.17211398e-05,  -2.40233325e-04,\n",
       "         -4.68333169e-04,   3.06890573e-04,   1.39159107e-04,\n",
       "         -3.40609006e-04,  -4.88385836e-06,  -8.21887287e-04,\n",
       "         -2.89957936e-04,  -2.33666806e-04,  -2.40878297e-04,\n",
       "          2.31168275e-04,   4.60838876e-05,   1.65280919e-04,\n",
       "         -4.04124386e-04]),\n",
       " 'b2': array([-0.00556297, -0.01715382,  0.01377521, -0.01063361,  0.02356068,\n",
       "        -0.01024409,  0.0197374 , -0.00586099,  0.00330509, -0.0109229 ])}"
      ]
     },
     "execution_count": 54,
     "metadata": {},
     "output_type": "execute_result"
    }
   ],
   "source": [
    "model.params"
   ]
  },
  {
   "cell_type": "code",
   "execution_count": 52,
   "metadata": {
    "collapsed": false,
    "deletable": true,
    "editable": true
   },
   "outputs": [
    {
     "data": {
      "image/png": "[encoded data removed]",
      "text/plain": [
       "<matplotlib.figure.Figure at 0x198948e39b0>"
      ]
     },
     "metadata": {},
     "output_type": "display_data"
    }
   ],
   "source": [
    "# Run this cell to visualize training loss and train / val accuracy\n",
    "\n",
    "plt.subplot(2, 1, 1)\n",
    "plt.title('Training loss')\n",
    "plt.plot(solver.loss_history, 'o')\n",
    "plt.xlabel('Iteration')\n",
    "\n",
    "plt.subplot(2, 1, 2)\n",
    "plt.title('Accuracy')\n",
    "plt.plot(solver.train_acc_history, '-o', label='train')\n",
    "plt.plot(solver.val_acc_history, '-o', label='val')\n",
    "plt.plot([0.5] * len(solver.val_acc_history), 'k--')\n",
    "plt.xlabel('Epoch')\n",
    "plt.legend(loc='lower right')\n",
    "plt.gcf().set_size_inches(15, 12)\n",
    "plt.show()"
   ]
  },
  {
   "cell_type": "markdown",
   "metadata": {
    "deletable": true,
    "editable": true
   },
   "source": [
    "# Multilayer network\n",
    "Next you will implement a fully-connected network with an arbitrary number of hidden layers.\n",
    "\n",
    "Read through the `FullyConnectedNet` class in the file `cs231n/classifiers/fc_net.py`.\n",
    "\n",
    "Implement the initialization, the forward pass, and the backward pass. For the moment don't worry about implementing dropout or batch normalization; we will add those features soon."
   ]
  },
  {
   "cell_type": "markdown",
   "metadata": {
    "deletable": true,
    "editable": true
   },
   "source": [
    "## Initial loss and gradient check"
   ]
  },
  {
   "cell_type": "markdown",
   "metadata": {
    "deletable": true,
    "editable": true
   },
   "source": [
    "As a sanity check, run the following to check the initial loss and to gradient check the network both with and without regularization. Do the initial losses seem reasonable?\n",
    "\n",
    "For gradient checking, you should expect to see errors around 1e-6 or less."
   ]
  },
  {
   "cell_type": "code",
   "execution_count": 57,
   "metadata": {
    "collapsed": false,
    "deletable": true,
    "editable": true
   },
   "outputs": [
    {
     "name": "stdout",
     "output_type": "stream",
     "text": [
      "[[ 0.01133949 -0.0025515  -0.01115655 -0.00855092 -0.00487044  0.00442009\n",
      "   0.00825294  0.00024891 -0.00732866 -0.0033983 ]\n",
      " [ 0.00195243  0.00066633 -0.00126636 -0.0027549   0.00066207  0.00321039\n",
      "   0.00048391  0.00018501 -0.00543791 -0.00449321]]\n"
     ]
    }
   ],
   "source": [
    "np.random.seed(231)\n",
    "N, D, H1, H2, C = 2, 15, 20, 30, 10\n",
    "X = np.random.randn(N, D)\n",
    "y = np.random.randint(C, size=(N,))\n",
    "\n",
    "#model = FullyConnectedNet([H1, H2], input_dim=D, num_classes=C,\n",
    "#                            reg=reg, weight_scale=5e-2, dtype=np.float64)\n",
    "#scores = model.loss(X)\n",
    "#print(scores)\n",
    "for reg in [0, 3.14]:\n",
    "  print('Running check with reg = ', reg)\n",
    "  model = FullyConnectedNet([H1, H2], input_dim=D, num_classes=C,\n",
    "                            reg=reg, weight_scale=5e-2, dtype=np.float64)\n",
    "\n",
    "  loss, grads = model.loss(X, y)\n",
    "  print('Initial loss: ', loss)\n",
    "\n",
    "  for name in sorted(grads):\n",
    "    f = lambda _: model.loss(X, y)[0]\n",
    "    grad_num = eval_numerical_gradient(f, model.params[name], verbose=False, h=1e-5)\n",
    "    print('%s relative error: %.2e' % (name, rel_error(grad_num, grads[name])))"
   ]
  },
  {
   "cell_type": "markdown",
   "metadata": {
    "deletable": true,
    "editable": true
   },
   "source": [
    "As another sanity check, make sure you can overfit a small dataset of 50 images. First we will try a three-layer network with 100 units in each hidden layer. You will need to tweak the learning rate and initialization scale, but you should be able to overfit and achieve 100% training accuracy within 20 epochs."
   ]
  },
  {
   "cell_type": "code",
   "execution_count": null,
   "metadata": {
    "collapsed": false,
    "deletable": true,
    "editable": true,
    "scrolled": false
   },
   "outputs": [],
   "source": [
    "# TODO: Use a three-layer Net to overfit 50 training examples.\n",
    "\n",
    "num_train = 50\n",
    "small_data = {\n",
    "  'X_train': data['X_train'][:num_train],\n",
    "  'y_train': data['y_train'][:num_train],\n",
    "  'X_val': data['X_val'],\n",
    "  'y_val': data['y_val'],\n",
    "}\n",
    "\n",
    "weight_scale = 1e-2\n",
    "learning_rate = 1e-4\n",
    "model = FullyConnectedNet([100, 100],\n",
    "              weight_scale=weight_scale, dtype=np.float64)\n",
    "solver = Solver(model, small_data,\n",
    "                print_every=10, num_epochs=20, batch_size=25,\n",
    "                update_rule='sgd',\n",
    "                optim_config={\n",
    "                  'learning_rate': learning_rate,\n",
    "                }\n",
    "         )\n",
    "solver.train()\n",
    "\n",
    "plt.plot(solver.loss_history, 'o')\n",
    "plt.title('Training loss history')\n",
    "plt.xlabel('Iteration')\n",
    "plt.ylabel('Training loss')\n",
    "plt.show()"
   ]
  },
  {
   "cell_type": "markdown",
   "metadata": {
    "deletable": true,
    "editable": true
   },
   "source": [
    "Now try to use a five-layer network with 100 units on each layer to overfit 50 training examples. Again you will have to adjust the learning rate and weight initialization, but you should be able to achieve 100% training accuracy within 20 epochs."
   ]
  },
  {
   "cell_type": "code",
   "execution_count": null,
   "metadata": {
    "collapsed": false,
    "deletable": true,
    "editable": true
   },
   "outputs": [],
   "source": [
    "# TODO: Use a five-layer Net to overfit 50 training examples.\n",
    "\n",
    "num_train = 50\n",
    "small_data = {\n",
    "  'X_train': data['X_train'][:num_train],\n",
    "  'y_train': data['y_train'][:num_train],\n",
    "  'X_val': data['X_val'],\n",
    "  'y_val': data['y_val'],\n",
    "}\n",
    "\n",
    "learning_rate = 1e-3\n",
    "weight_scale = 1e-5\n",
    "model = FullyConnectedNet([100, 100, 100, 100],\n",
    "                weight_scale=weight_scale, dtype=np.float64)\n",
    "solver = Solver(model, small_data,\n",
    "                print_every=10, num_epochs=20, batch_size=25,\n",
    "                update_rule='sgd',\n",
    "                optim_config={\n",
    "                  'learning_rate': learning_rate,\n",
    "                }\n",
    "         )\n",
    "solver.train()\n",
    "\n",
    "plt.plot(solver.loss_history, 'o')\n",
    "plt.title('Training loss history')\n",
    "plt.xlabel('Iteration')\n",
    "plt.ylabel('Training loss')\n",
    "plt.show()"
   ]
  },
  {
   "cell_type": "markdown",
   "metadata": {
    "deletable": true,
    "editable": true
   },
   "source": [
    "# Inline question: \n",
    "Did you notice anything about the comparative difficulty of training the three-layer net vs training the five layer net?\n",
    "\n",
    "# Answer:\n",
    "[FILL THIS IN]\n"
   ]
  },
  {
   "cell_type": "markdown",
   "metadata": {
    "deletable": true,
    "editable": true
   },
   "source": [
    "# Update rules\n",
    "So far we have used vanilla stochastic gradient descent (SGD) as our update rule. More sophisticated update rules can make it easier to train deep networks. We will implement a few of the most commonly used update rules and compare them to vanilla SGD."
   ]
  },
  {
   "cell_type": "markdown",
   "metadata": {
    "deletable": true,
    "editable": true
   },
   "source": [
    "# SGD+Momentum\n",
    "Stochastic gradient descent with momentum is a widely used update rule that tends to make deep networks converge faster than vanilla stochstic gradient descent.\n",
    "\n",
    "Open the file `cs231n/optim.py` and read the documentation at the top of the file to make sure you understand the API. Implement the SGD+momentum update rule in the function `sgd_momentum` and run the following to check your implementation. You should see errors less than 1e-8."
   ]
  },
  {
   "cell_type": "code",
   "execution_count": null,
   "metadata": {
    "collapsed": false,
    "deletable": true,
    "editable": true
   },
   "outputs": [],
   "source": [
    "from cs231n.optim import sgd_momentum\n",
    "\n",
    "N, D = 4, 5\n",
    "w = np.linspace(-0.4, 0.6, num=N*D).reshape(N, D)\n",
    "dw = np.linspace(-0.6, 0.4, num=N*D).reshape(N, D)\n",
    "v = np.linspace(0.6, 0.9, num=N*D).reshape(N, D)\n",
    "\n",
    "config = {'learning_rate': 1e-3, 'velocity': v}\n",
    "next_w, _ = sgd_momentum(w, dw, config=config)\n",
    "\n",
    "expected_next_w = np.asarray([\n",
    "  [ 0.1406,      0.20738947,  0.27417895,  0.34096842,  0.40775789],\n",
    "  [ 0.47454737,  0.54133684,  0.60812632,  0.67491579,  0.74170526],\n",
    "  [ 0.80849474,  0.87528421,  0.94207368,  1.00886316,  1.07565263],\n",
    "  [ 1.14244211,  1.20923158,  1.27602105,  1.34281053,  1.4096    ]])\n",
    "expected_velocity = np.asarray([\n",
    "  [ 0.5406,      0.55475789,  0.56891579, 0.58307368,  0.59723158],\n",
    "  [ 0.61138947,  0.62554737,  0.63970526,  0.65386316,  0.66802105],\n",
    "  [ 0.68217895,  0.69633684,  0.71049474,  0.72465263,  0.73881053],\n",
    "  [ 0.75296842,  0.76712632,  0.78128421,  0.79544211,  0.8096    ]])\n",
    "\n",
    "print('next_w error: ', rel_error(next_w, expected_next_w))\n",
    "print('velocity error: ', rel_error(expected_velocity, config['velocity']))"
   ]
  },
  {
   "cell_type": "markdown",
   "metadata": {
    "deletable": true,
    "editable": true
   },
   "source": [
    "Once you have done so, run the following to train a six-layer network with both SGD and SGD+momentum. You should see the SGD+momentum update rule converge faster."
   ]
  },
  {
   "cell_type": "code",
   "execution_count": null,
   "metadata": {
    "collapsed": false,
    "deletable": true,
    "editable": true,
    "scrolled": false
   },
   "outputs": [],
   "source": [
    "num_train = 4000\n",
    "small_data = {\n",
    "  'X_train': data['X_train'][:num_train],\n",
    "  'y_train': data['y_train'][:num_train],\n",
    "  'X_val': data['X_val'],\n",
    "  'y_val': data['y_val'],\n",
    "}\n",
    "\n",
    "solvers = {}\n",
    "\n",
    "for update_rule in ['sgd', 'sgd_momentum']:\n",
    "  print('running with ', update_rule)\n",
    "  model = FullyConnectedNet([100, 100, 100, 100, 100], weight_scale=5e-2)\n",
    "\n",
    "  solver = Solver(model, small_data,\n",
    "                  num_epochs=5, batch_size=100,\n",
    "                  update_rule=update_rule,\n",
    "                  optim_config={\n",
    "                    'learning_rate': 1e-2,\n",
    "                  },\n",
    "                  verbose=True)\n",
    "  solvers[update_rule] = solver\n",
    "  solver.train()\n",
    "  print()\n",
    "\n",
    "plt.subplot(3, 1, 1)\n",
    "plt.title('Training loss')\n",
    "plt.xlabel('Iteration')\n",
    "\n",
    "plt.subplot(3, 1, 2)\n",
    "plt.title('Training accuracy')\n",
    "plt.xlabel('Epoch')\n",
    "\n",
    "plt.subplot(3, 1, 3)\n",
    "plt.title('Validation accuracy')\n",
    "plt.xlabel('Epoch')\n",
    "\n",
    "for update_rule, solver in list(solvers.items()):\n",
    "  plt.subplot(3, 1, 1)\n",
    "  plt.plot(solver.loss_history, 'o', label=update_rule)\n",
    "  \n",
    "  plt.subplot(3, 1, 2)\n",
    "  plt.plot(solver.train_acc_history, '-o', label=update_rule)\n",
    "\n",
    "  plt.subplot(3, 1, 3)\n",
    "  plt.plot(solver.val_acc_history, '-o', label=update_rule)\n",
    "  \n",
    "for i in [1, 2, 3]:\n",
    "  plt.subplot(3, 1, i)\n",
    "  plt.legend(loc='upper center', ncol=4)\n",
    "plt.gcf().set_size_inches(15, 15)\n",
    "plt.show()"
   ]
  },
  {
   "cell_type": "markdown",
   "metadata": {
    "deletable": true,
    "editable": true
   },
   "source": [
    "# RMSProp and Adam\n",
    "RMSProp [1] and Adam [2] are update rules that set per-parameter learning rates by using a running average of the second moments of gradients.\n",
    "\n",
    "In the file `cs231n/optim.py`, implement the RMSProp update rule in the `rmsprop` function and implement the Adam update rule in the `adam` function, and check your implementations using the tests below.\n",
    "\n",
    "[1] Tijmen Tieleman and Geoffrey Hinton. \"Lecture 6.5-rmsprop: Divide the gradient by a running average of its recent magnitude.\" COURSERA: Neural Networks for Machine Learning 4 (2012).\n",
    "\n",
    "[2] Diederik Kingma and Jimmy Ba, \"Adam: A Method for Stochastic Optimization\", ICLR 2015."
   ]
  },
  {
   "cell_type": "code",
   "execution_count": null,
   "metadata": {
    "collapsed": false,
    "deletable": true,
    "editable": true
   },
   "outputs": [],
   "source": [
    "# Test RMSProp implementation; you should see errors less than 1e-7\n",
    "from cs231n.optim import rmsprop\n",
    "\n",
    "N, D = 4, 5\n",
    "w = np.linspace(-0.4, 0.6, num=N*D).reshape(N, D)\n",
    "dw = np.linspace(-0.6, 0.4, num=N*D).reshape(N, D)\n",
    "cache = np.linspace(0.6, 0.9, num=N*D).reshape(N, D)\n",
    "\n",
    "config = {'learning_rate': 1e-2, 'cache': cache}\n",
    "next_w, _ = rmsprop(w, dw, config=config)\n",
    "\n",
    "expected_next_w = np.asarray([\n",
    "  [-0.39223849, -0.34037513, -0.28849239, -0.23659121, -0.18467247],\n",
    "  [-0.132737,   -0.08078555, -0.02881884,  0.02316247,  0.07515774],\n",
    "  [ 0.12716641,  0.17918792,  0.23122175,  0.28326742,  0.33532447],\n",
    "  [ 0.38739248,  0.43947102,  0.49155973,  0.54365823,  0.59576619]])\n",
    "expected_cache = np.asarray([\n",
    "  [ 0.5976,      0.6126277,   0.6277108,   0.64284931,  0.65804321],\n",
    "  [ 0.67329252,  0.68859723,  0.70395734,  0.71937285,  0.73484377],\n",
    "  [ 0.75037008,  0.7659518,   0.78158892,  0.79728144,  0.81302936],\n",
    "  [ 0.82883269,  0.84469141,  0.86060554,  0.87657507,  0.8926    ]])\n",
    "\n",
    "print('next_w error: ', rel_error(expected_next_w, next_w))\n",
    "print('cache error: ', rel_error(expected_cache, config['cache']))"
   ]
  },
  {
   "cell_type": "code",
   "execution_count": null,
   "metadata": {
    "collapsed": false,
    "deletable": true,
    "editable": true
   },
   "outputs": [],
   "source": [
    "# Test Adam implementation; you should see errors around 1e-7 or less\n",
    "from cs231n.optim import adam\n",
    "\n",
    "N, D = 4, 5\n",
    "w = np.linspace(-0.4, 0.6, num=N*D).reshape(N, D)\n",
    "dw = np.linspace(-0.6, 0.4, num=N*D).reshape(N, D)\n",
    "m = np.linspace(0.6, 0.9, num=N*D).reshape(N, D)\n",
    "v = np.linspace(0.7, 0.5, num=N*D).reshape(N, D)\n",
    "\n",
    "config = {'learning_rate': 1e-2, 'm': m, 'v': v, 't': 5}\n",
    "next_w, _ = adam(w, dw, config=config)\n",
    "\n",
    "expected_next_w = np.asarray([\n",
    "  [-0.40094747, -0.34836187, -0.29577703, -0.24319299, -0.19060977],\n",
    "  [-0.1380274,  -0.08544591, -0.03286534,  0.01971428,  0.0722929],\n",
    "  [ 0.1248705,   0.17744702,  0.23002243,  0.28259667,  0.33516969],\n",
    "  [ 0.38774145,  0.44031188,  0.49288093,  0.54544852,  0.59801459]])\n",
    "expected_v = np.asarray([\n",
    "  [ 0.69966,     0.68908382,  0.67851319,  0.66794809,  0.65738853,],\n",
    "  [ 0.64683452,  0.63628604,  0.6257431,   0.61520571,  0.60467385,],\n",
    "  [ 0.59414753,  0.58362676,  0.57311152,  0.56260183,  0.55209767,],\n",
    "  [ 0.54159906,  0.53110598,  0.52061845,  0.51013645,  0.49966,   ]])\n",
    "expected_m = np.asarray([\n",
    "  [ 0.48,        0.49947368,  0.51894737,  0.53842105,  0.55789474],\n",
    "  [ 0.57736842,  0.59684211,  0.61631579,  0.63578947,  0.65526316],\n",
    "  [ 0.67473684,  0.69421053,  0.71368421,  0.73315789,  0.75263158],\n",
    "  [ 0.77210526,  0.79157895,  0.81105263,  0.83052632,  0.85      ]])\n",
    "\n",
    "print('next_w error: ', rel_error(expected_next_w, next_w))\n",
    "print('v error: ', rel_error(expected_v, config['v']))\n",
    "print('m error: ', rel_error(expected_m, config['m']))"
   ]
  },
  {
   "cell_type": "markdown",
   "metadata": {
    "deletable": true,
    "editable": true
   },
   "source": [
    "Once you have debugged your RMSProp and Adam implementations, run the following to train a pair of deep networks using these new update rules:"
   ]
  },
  {
   "cell_type": "code",
   "execution_count": null,
   "metadata": {
    "collapsed": false,
    "deletable": true,
    "editable": true
   },
   "outputs": [],
   "source": [
    "learning_rates = {'rmsprop': 1e-4, 'adam': 1e-3}\n",
    "for update_rule in ['adam', 'rmsprop']:\n",
    "  print('running with ', update_rule)\n",
    "  model = FullyConnectedNet([100, 100, 100, 100, 100], weight_scale=5e-2)\n",
    "\n",
    "  solver = Solver(model, small_data,\n",
    "                  num_epochs=5, batch_size=100,\n",
    "                  update_rule=update_rule,\n",
    "                  optim_config={\n",
    "                    'learning_rate': learning_rates[update_rule]\n",
    "                  },\n",
    "                  verbose=True)\n",
    "  solvers[update_rule] = solver\n",
    "  solver.train()\n",
    "  print()\n",
    "\n",
    "plt.subplot(3, 1, 1)\n",
    "plt.title('Training loss')\n",
    "plt.xlabel('Iteration')\n",
    "\n",
    "plt.subplot(3, 1, 2)\n",
    "plt.title('Training accuracy')\n",
    "plt.xlabel('Epoch')\n",
    "\n",
    "plt.subplot(3, 1, 3)\n",
    "plt.title('Validation accuracy')\n",
    "plt.xlabel('Epoch')\n",
    "\n",
    "for update_rule, solver in list(solvers.items()):\n",
    "  plt.subplot(3, 1, 1)\n",
    "  plt.plot(solver.loss_history, 'o', label=update_rule)\n",
    "  \n",
    "  plt.subplot(3, 1, 2)\n",
    "  plt.plot(solver.train_acc_history, '-o', label=update_rule)\n",
    "\n",
    "  plt.subplot(3, 1, 3)\n",
    "  plt.plot(solver.val_acc_history, '-o', label=update_rule)\n",
    "  \n",
    "for i in [1, 2, 3]:\n",
    "  plt.subplot(3, 1, i)\n",
    "  plt.legend(loc='upper center', ncol=4)\n",
    "plt.gcf().set_size_inches(15, 15)\n",
    "plt.show()"
   ]
  },
  {
   "cell_type": "markdown",
   "metadata": {
    "deletable": true,
    "editable": true
   },
   "source": [
    "# Train a good model!\n",
    "Train the best fully-connected model that you can on CIFAR-10, storing your best model in the `best_model` variable. We require you to get at least 50% accuracy on the validation set using a fully-connected net.\n",
    "\n",
    "If you are careful it should be possible to get accuracies above 55%, but we don't require it for this part and won't assign extra credit for doing so. Later in the assignment we will ask you to train the best convolutional network that you can on CIFAR-10, and we would prefer that you spend your effort working on convolutional nets rather than fully-connected nets.\n",
    "\n",
    "You might find it useful to complete the `BatchNormalization.ipynb` and `Dropout.ipynb` notebooks before completing this part, since those techniques can help you train powerful models."
   ]
  },
  {
   "cell_type": "code",
   "execution_count": null,
   "metadata": {
    "collapsed": false,
    "deletable": true,
    "editable": true,
    "scrolled": false
   },
   "outputs": [],
   "source": [
    "best_model = None\n",
    "################################################################################\n",
    "# TODO: Train the best FullyConnectedNet that you can on CIFAR-10. You might   #\n",
    "# batch normalization and dropout useful. Store your best model in the         #\n",
    "# best_model variable.                                                         #\n",
    "################################################################################\n",
    "pass\n",
    "################################################################################\n",
    "#                              END OF YOUR CODE                                #\n",
    "################################################################################"
   ]
  },
  {
   "cell_type": "markdown",
   "metadata": {
    "deletable": true,
    "editable": true
   },
   "source": [
    "# Test you model\n",
    "Run your best model on the validation and test sets. You should achieve above 50% accuracy on the validation set."
   ]
  },
  {
   "cell_type": "code",
   "execution_count": null,
   "metadata": {
    "collapsed": false,
    "deletable": true,
    "editable": true
   },
   "outputs": [],
   "source": [
    "y_test_pred = np.argmax(best_model.loss(data['X_test']), axis=1)\n",
    "y_val_pred = np.argmax(best_model.loss(data['X_val']), axis=1)\n",
    "print('Validation set accuracy: ', (y_val_pred == data['y_val']).mean())\n",
    "print('Test set accuracy: ', (y_test_pred == data['y_test']).mean())"
   ]
  }
 ],
 "metadata": {
  "kernelspec": {
   "display_name": "Python 3",
   "language": "python",
   "name": "python3"
  },
  "language_info": {
   "codemirror_mode": {
    "name": "ipython",
    "version": 3
   },
   "file_extension": ".py",
   "mimetype": "text/x-python",
   "name": "python",
   "nbconvert_exporter": "python",
   "pygments_lexer": "ipython3",
   "version": "3.6.0"
  }
 },
 "nbformat": 4,
 "nbformat_minor": 0
}
